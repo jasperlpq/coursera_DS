{
    "cells": [
        {
            "metadata": {
                "collapsed": true
            },
            "cell_type": "markdown",
            "source": "# My Jupyter Notebook on IBM Data Science Experiemce"
        },
        {
            "metadata": {},
            "cell_type": "markdown",
            "source": "**Peiqing Lian**\n---------\nOccupation: Graduate student at University of Southern California"
        },
        {
            "metadata": {},
            "cell_type": "markdown",
            "source": "*I am interested in data science becasue I want to use analytics tools to do data science in entertainment industry. In addition, data science interests me because technology behind is fast changing and I am a eager learner.* "
        },
        {
            "metadata": {},
            "cell_type": "markdown",
            "source": "### Following code is doing the multipication "
        },
        {
            "metadata": {},
            "cell_type": "code",
            "source": "x = 5\ny = 6\nz = x*y\nz",
            "execution_count": 2,
            "outputs": [
                {
                    "output_type": "execute_result",
                    "execution_count": 2,
                    "data": {
                        "text/plain": "30"
                    },
                    "metadata": {}
                }
            ]
        },
        {
            "metadata": {},
            "cell_type": "markdown",
            "source": "1. python\n2. spark\n3. R\n\n--------\n\n- google \n- facebook\n- amazon\n\n--------\n\nName | Subject | Grade\n---  | --- | ---\nJohn | Math | 90"
        },
        {
            "metadata": {},
            "cell_type": "code",
            "source": "",
            "execution_count": null,
            "outputs": []
        }
    ],
    "metadata": {
        "kernelspec": {
            "name": "python3",
            "display_name": "Python 3.6",
            "language": "python"
        },
        "language_info": {
            "name": "python",
            "version": "3.6.9",
            "mimetype": "text/x-python",
            "codemirror_mode": {
                "name": "ipython",
                "version": 3
            },
            "pygments_lexer": "ipython3",
            "nbconvert_exporter": "python",
            "file_extension": ".py"
        }
    },
    "nbformat": 4,
    "nbformat_minor": 1
}